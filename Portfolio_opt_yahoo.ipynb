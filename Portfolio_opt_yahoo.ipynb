{
 "cells": [
  {
   "cell_type": "code",
   "execution_count": 1,
   "id": "3884f046-558d-461f-ace3-fa04afc906dc",
   "metadata": {},
   "outputs": [
    {
     "name": "stdout",
     "output_type": "stream",
     "text": [
      "Requirement already satisfied: pip in /opt/.qbraid/environments/qbraid_000000/pyenv/lib/python3.11/site-packages (25.0.1)\n",
      "Collecting pip\n",
      "  Using cached pip-25.1.1-py3-none-any.whl.metadata (3.6 kB)\n",
      "Using cached pip-25.1.1-py3-none-any.whl (1.8 MB)\n",
      "Installing collected packages: pip\n",
      "  Attempting uninstall: pip\n",
      "    Found existing installation: pip 25.0.1\n",
      "    Uninstalling pip-25.0.1:\n",
      "      Successfully uninstalled pip-25.0.1\n",
      "Successfully installed pip-25.1.1\n",
      "Note: you may need to restart the kernel to use updated packages.\n"
     ]
    }
   ],
   "source": [
    "pip install --upgrade pip"
   ]
  },
  {
   "cell_type": "code",
   "execution_count": 2,
   "id": "9a1cd5de-fb80-4d6a-99f0-fdd544f772a0",
   "metadata": {},
   "outputs": [
    {
     "name": "stdout",
     "output_type": "stream",
     "text": [
      "Requirement already satisfied: yfinance in /opt/conda/lib/python3.11/site-packages (0.2.58)\n",
      "Requirement already satisfied: pandas>=1.3.0 in /opt/conda/lib/python3.11/site-packages (from yfinance) (2.2.3)\n",
      "Requirement already satisfied: numpy>=1.16.5 in /opt/conda/lib/python3.11/site-packages (from yfinance) (2.2.5)\n",
      "Requirement already satisfied: requests>=2.31 in /opt/conda/lib/python3.11/site-packages (from yfinance) (2.31.0)\n",
      "Requirement already satisfied: multitasking>=0.0.7 in /opt/conda/lib/python3.11/site-packages (from yfinance) (0.0.11)\n",
      "Requirement already satisfied: platformdirs>=2.0.0 in /opt/conda/lib/python3.11/site-packages (from yfinance) (4.2.2)\n",
      "Requirement already satisfied: pytz>=2022.5 in /opt/conda/lib/python3.11/site-packages (from yfinance) (2024.1)\n",
      "Requirement already satisfied: frozendict>=2.3.4 in /opt/conda/lib/python3.11/site-packages (from yfinance) (2.4.4)\n",
      "Requirement already satisfied: peewee>=3.16.2 in /opt/conda/lib/python3.11/site-packages (from yfinance) (3.18.1)\n",
      "Requirement already satisfied: beautifulsoup4>=4.11.1 in /opt/conda/lib/python3.11/site-packages (from yfinance) (4.12.3)\n",
      "Requirement already satisfied: curl_cffi>=0.7 in /opt/conda/lib/python3.11/site-packages (from yfinance) (0.10.0)\n",
      "Requirement already satisfied: soupsieve>1.2 in /opt/conda/lib/python3.11/site-packages (from beautifulsoup4>=4.11.1->yfinance) (2.5)\n",
      "Requirement already satisfied: cffi>=1.12.0 in /opt/conda/lib/python3.11/site-packages (from curl_cffi>=0.7->yfinance) (1.16.0)\n",
      "Requirement already satisfied: certifi>=2024.2.2 in /opt/conda/lib/python3.11/site-packages (from curl_cffi>=0.7->yfinance) (2024.2.2)\n",
      "Requirement already satisfied: python-dateutil>=2.8.2 in /opt/conda/lib/python3.11/site-packages (from pandas>=1.3.0->yfinance) (2.9.0)\n",
      "Requirement already satisfied: tzdata>=2022.7 in /opt/conda/lib/python3.11/site-packages (from pandas>=1.3.0->yfinance) (2025.2)\n",
      "Requirement already satisfied: charset-normalizer<4,>=2 in /opt/conda/lib/python3.11/site-packages (from requests>=2.31->yfinance) (3.3.2)\n",
      "Requirement already satisfied: idna<4,>=2.5 in /opt/conda/lib/python3.11/site-packages (from requests>=2.31->yfinance) (3.7)\n",
      "Requirement already satisfied: urllib3<3,>=1.21.1 in /opt/conda/lib/python3.11/site-packages (from requests>=2.31->yfinance) (2.2.1)\n",
      "Requirement already satisfied: pycparser in /opt/conda/lib/python3.11/site-packages (from cffi>=1.12.0->curl_cffi>=0.7->yfinance) (2.22)\n",
      "Requirement already satisfied: six>=1.5 in /opt/conda/lib/python3.11/site-packages (from python-dateutil>=2.8.2->pandas>=1.3.0->yfinance) (1.16.0)\n",
      "\n",
      "\u001b[1m[\u001b[0m\u001b[34;49mnotice\u001b[0m\u001b[1;39;49m]\u001b[0m\u001b[39;49m A new release of pip is available: \u001b[0m\u001b[31;49m25.0.1\u001b[0m\u001b[39;49m -> \u001b[0m\u001b[32;49m25.1.1\u001b[0m\n",
      "\u001b[1m[\u001b[0m\u001b[34;49mnotice\u001b[0m\u001b[1;39;49m]\u001b[0m\u001b[39;49m To update, run: \u001b[0m\u001b[32;49mpip install --upgrade pip\u001b[0m\n"
     ]
    }
   ],
   "source": [
    "!pip install yfinance"
   ]
  },
  {
   "cell_type": "code",
   "execution_count": 3,
   "id": "7921fadd-d20c-471c-b6f2-7823ae0ec18a",
   "metadata": {},
   "outputs": [
    {
     "name": "stdout",
     "output_type": "stream",
     "text": [
      "Requirement already satisfied: pennylane in /opt/conda/lib/python3.11/site-packages (0.41.1)\n",
      "Requirement already satisfied: numpy in /opt/conda/lib/python3.11/site-packages (from pennylane) (2.2.5)\n",
      "Requirement already satisfied: scipy in /opt/conda/lib/python3.11/site-packages (from pennylane) (1.15.2)\n",
      "Requirement already satisfied: networkx in /opt/conda/lib/python3.11/site-packages (from pennylane) (3.4.2)\n",
      "Requirement already satisfied: rustworkx>=0.14.0 in /opt/conda/lib/python3.11/site-packages (from pennylane) (0.16.0)\n",
      "Requirement already satisfied: autograd in /opt/conda/lib/python3.11/site-packages (from pennylane) (1.8.0)\n",
      "Requirement already satisfied: tomlkit in /opt/conda/lib/python3.11/site-packages (from pennylane) (0.13.2)\n",
      "Requirement already satisfied: appdirs in /opt/conda/lib/python3.11/site-packages (from pennylane) (1.4.4)\n",
      "Requirement already satisfied: autoray>=0.6.11 in /opt/conda/lib/python3.11/site-packages (from pennylane) (0.7.1)\n",
      "Requirement already satisfied: cachetools in /opt/conda/lib/python3.11/site-packages (from pennylane) (5.5.2)\n",
      "Requirement already satisfied: pennylane-lightning>=0.41 in /opt/conda/lib/python3.11/site-packages (from pennylane) (0.41.1)\n",
      "Requirement already satisfied: requests in /opt/conda/lib/python3.11/site-packages (from pennylane) (2.31.0)\n",
      "Requirement already satisfied: typing-extensions in /opt/conda/lib/python3.11/site-packages (from pennylane) (4.13.2)\n",
      "Requirement already satisfied: packaging in /opt/conda/lib/python3.11/site-packages (from pennylane) (24.0)\n",
      "Requirement already satisfied: diastatic-malt in /opt/conda/lib/python3.11/site-packages (from pennylane) (2.15.2)\n",
      "Requirement already satisfied: scipy-openblas32>=0.3.26 in /opt/conda/lib/python3.11/site-packages (from pennylane-lightning>=0.41->pennylane) (0.3.29.0.0)\n",
      "Requirement already satisfied: astunparse in /opt/conda/lib/python3.11/site-packages (from diastatic-malt->pennylane) (1.6.3)\n",
      "Requirement already satisfied: gast in /opt/conda/lib/python3.11/site-packages (from diastatic-malt->pennylane) (0.6.0)\n",
      "Requirement already satisfied: termcolor in /opt/conda/lib/python3.11/site-packages (from diastatic-malt->pennylane) (3.1.0)\n",
      "Requirement already satisfied: charset-normalizer<4,>=2 in /opt/conda/lib/python3.11/site-packages (from requests->pennylane) (3.3.2)\n",
      "Requirement already satisfied: idna<4,>=2.5 in /opt/conda/lib/python3.11/site-packages (from requests->pennylane) (3.7)\n",
      "Requirement already satisfied: urllib3<3,>=1.21.1 in /opt/conda/lib/python3.11/site-packages (from requests->pennylane) (2.2.1)\n",
      "Requirement already satisfied: certifi>=2017.4.17 in /opt/conda/lib/python3.11/site-packages (from requests->pennylane) (2024.2.2)\n",
      "Requirement already satisfied: wheel<1.0,>=0.23.0 in /opt/conda/lib/python3.11/site-packages (from astunparse->diastatic-malt->pennylane) (0.43.0)\n",
      "Requirement already satisfied: six<2.0,>=1.6.1 in /opt/conda/lib/python3.11/site-packages (from astunparse->diastatic-malt->pennylane) (1.16.0)\n",
      "\n",
      "\u001b[1m[\u001b[0m\u001b[34;49mnotice\u001b[0m\u001b[1;39;49m]\u001b[0m\u001b[39;49m A new release of pip is available: \u001b[0m\u001b[31;49m25.0.1\u001b[0m\u001b[39;49m -> \u001b[0m\u001b[32;49m25.1.1\u001b[0m\n",
      "\u001b[1m[\u001b[0m\u001b[34;49mnotice\u001b[0m\u001b[1;39;49m]\u001b[0m\u001b[39;49m To update, run: \u001b[0m\u001b[32;49mpip install --upgrade pip\u001b[0m\n"
     ]
    }
   ],
   "source": [
    "!pip install pennylane"
   ]
  },
  {
   "cell_type": "code",
   "execution_count": 4,
   "id": "0a50fee7-07f7-43b5-ba68-ef99c6eb9ff5",
   "metadata": {},
   "outputs": [],
   "source": [
    "import yfinance as yf\n",
    "import numpy as np\n",
    "import pandas as pd\n",
    "import pennylane as qml\n",
    "from pennylane import numpy as np\n",
    "import matplotlib.pyplot as plt"
   ]
  },
  {
   "cell_type": "code",
   "execution_count": 5,
   "id": "b268d29c-3192-4fde-a543-81ede3f80e80",
   "metadata": {},
   "outputs": [
    {
     "name": "stdout",
     "output_type": "stream",
     "text": [
      "YF.download() has changed argument auto_adjust default to True\n"
     ]
    },
    {
     "name": "stderr",
     "output_type": "stream",
     "text": [
      "[*********************100%***********************]  5 of 5 completed\n"
     ]
    }
   ],
   "source": [
    "# Choose some assets (e.g., 5 big tech stocks)\n",
    "tickers = ['AAPL', 'MSFT', 'GOOGL', 'AMZN', 'NVDA']\n",
    "data = yf.download(tickers, start='2024-01-01', end='2025-01-01')\n",
    "# Extract 'Adj Close' from multi-index columns\n",
    "data = data['Close']"
   ]
  },
  {
   "cell_type": "code",
   "execution_count": 6,
   "id": "1abb1a10-6eb0-452c-8ffc-37cb8d924d9b",
   "metadata": {},
   "outputs": [
    {
     "data": {
      "text/plain": [
       "(252, 5)"
      ]
     },
     "execution_count": 6,
     "metadata": {},
     "output_type": "execute_result"
    }
   ],
   "source": [
    "data.shape"
   ]
  },
  {
   "cell_type": "code",
   "execution_count": 7,
   "id": "74e55b2f-c26d-4697-b70a-2a29c437cf16",
   "metadata": {},
   "outputs": [
    {
     "data": {
      "text/plain": [
       "(251, 5)"
      ]
     },
     "execution_count": 7,
     "metadata": {},
     "output_type": "execute_result"
    }
   ],
   "source": [
    "# Compute daily returns\n",
    "returns = data.pct_change().dropna()\n",
    "returns.shape"
   ]
  },
  {
   "cell_type": "code",
   "execution_count": 8,
   "id": "c4edaaf1-e67e-452b-bedf-7ed9a0630423",
   "metadata": {},
   "outputs": [],
   "source": [
    "# Compute expected returns and covariance matrix\n",
    "expected_returns = returns.mean().values     # average daily return for each asset\n",
    "cov_matrix = returns.cov().values        # risk (covariance)"
   ]
  },
  {
   "cell_type": "code",
   "execution_count": 9,
   "id": "54d46aea-3808-4d8c-9aa4-8f9d8ad1c712",
   "metadata": {},
   "outputs": [],
   "source": [
    "R = expected_returns  # shape: (n,)\n",
    "Sigma = cov_matrix    # shape: (n, n)"
   ]
  },
  {
   "cell_type": "code",
   "execution_count": 10,
   "id": "1b1a22bc-ab89-4864-8f4a-7fcd3e29de5c",
   "metadata": {},
   "outputs": [
    {
     "data": {
      "text/plain": [
       "((5,), (5, 5))"
      ]
     },
     "execution_count": 10,
     "metadata": {},
     "output_type": "execute_result"
    }
   ],
   "source": [
    "R.shape,Sigma.shape"
   ]
  },
  {
   "cell_type": "code",
   "execution_count": 11,
   "id": "36087a3c-43a5-4b20-8661-42eb05f58684",
   "metadata": {},
   "outputs": [],
   "source": [
    "lambda_risk = 0.5\n",
    "alpha = 500\n",
    "k= 3\n",
    "t = (R.shape[0]/2)-k"
   ]
  },
  {
   "cell_type": "code",
   "execution_count": 12,
   "id": "d2021e34-0ad4-43f9-bf91-200e9a6cdb16",
   "metadata": {},
   "outputs": [],
   "source": [
    "from pennylane import Hamiltonian, PauliZ\n",
    "\n",
    "coeffs = []\n",
    "ops = []\n",
    "\n",
    "# Return term: -Rᵢ xᵢ\n",
    "\n",
    "for i in range(R.shape[0]):\n",
    "    #constant term\n",
    "    coeff = -R[i] * 0.5\n",
    "    coeffs.append(coeff)\n",
    "    ops.append(qml.Identity(0))\n",
    "    \n",
    "    #Single qubit term\n",
    "    coeffs.append(-coeff)\n",
    "    ops.append(PauliZ(i))\n",
    "\n",
    "# Risk term: λ Σᵢⱼ xᵢ xⱼ\n",
    "\n",
    "for i in range(R.shape[0]):\n",
    "    for j in range(R.shape[0]):\n",
    "        coeff = lambda_risk * Sigma[i][j] * 0.25\n",
    "        \n",
    "        if i == j:\n",
    "            #Constant term\n",
    "            coeffs.append(coeff)\n",
    "            ops.append(qml.Identity(0))\n",
    "            #Constant\n",
    "            coeffs.append(coeff)\n",
    "            ops.append(qml.Identity(i)) \n",
    "            #Single qubit term\n",
    "            coeffs.append(-2*coeff)\n",
    "            ops.append(PauliZ(i))\n",
    "\n",
    "        else:\n",
    "            # interaction term\n",
    "            coeffs.append(coeff)\n",
    "            ops.append(PauliZ(i) @ PauliZ(j))\n",
    "\n",
    "            #single qubit terms\n",
    "            coeffs.append(-coeff)\n",
    "            ops.append(PauliZ(i))\n",
    "            coeffs.append(-coeff)\n",
    "            ops.append(PauliZ(j))\n",
    "\n",
    "            # Add constant term (optional)\n",
    "            coeffs.append(coeff)\n",
    "            ops.append(qml.Identity(0))\n",
    "\n",
    "#Penalty term: Pick exactly k=3 out of 5 assets\n",
    "\n",
    "#Constant term\n",
    "coeff_penal = alpha\n",
    "coeffs.append(coeff_penal*(t**2))\n",
    "ops.append(qml.Identity(0))\n",
    "\n",
    "for i in range(R.shape[0]):\n",
    "    #terms -alpha*tΣᵢZi\n",
    "    coeffs.append(-alpha*t)\n",
    "    ops.append(qml.PauliZ(i))\n",
    "    \n",
    "    #terms alpha*0.25ΣᵢZi^2\n",
    "    coeffs.append(alpha*0.25)\n",
    "    ops.append(qml.Identity(i))\n",
    "\n",
    "    for j in range(i+1,R.shape[0]):\n",
    "    #terms alpha*0.25ΣijZiZj\n",
    "        coeffs.append(alpha*0.25)\n",
    "        ops.append(qml.PauliZ(i)@qml.PauliZ(j))\n",
    "\n",
    "#Penalty_term: Only invest in at most 1 assets from Tech sector\n",
    "#to be added later\n",
    "\n",
    "cost_h = qml.Hamiltonian(coeffs, ops)\n"
   ]
  },
  {
   "cell_type": "code",
   "execution_count": 13,
   "id": "ea26b0a5-026e-4abc-9fc1-78bbb375298b",
   "metadata": {},
   "outputs": [],
   "source": [
    "#QAOA for p=10\n",
    "dev = qml.device(\"default.qubit\", wires=R.shape[0])\n",
    "def apply_cost(gamma):\n",
    "    for term, coeff in zip(ops, coeffs):\n",
    "        qml.ApproxTimeEvolution(coeff * term, gamma, 1)\n",
    "\n",
    "def apply_mixer(beta):\n",
    "    for i in range(R.shape[0]):\n",
    "        qml.RX(-2 * beta, wires=i)\n",
    "\n",
    "@qml.qnode(dev)\n",
    "def qaoa(params,p):\n",
    "    gamma, beta = params[:p], params[p:]\n",
    "    \n",
    "    # Start in uniform superposition\n",
    "    for i in range(R.shape[0]):\n",
    "        qml.Hadamard(wires=i)\n",
    "    for k in range(p):\n",
    "        apply_cost(gamma[k])\n",
    "        apply_mixer(beta[k])\n",
    "    \n",
    "    return qml.expval(cost_h)"
   ]
  },
  {
   "cell_type": "code",
   "execution_count": 25,
   "id": "12949840-8cb3-46c3-90e0-cf676d8c2e1c",
   "metadata": {},
   "outputs": [
    {
     "name": "stdout",
     "output_type": "stream",
     "text": [
      "Step 0: Cost = 798.9892\n",
      "Step 5: Cost = 818.5207\n",
      "Step 10: Cost = 589.7811\n",
      "Step 15: Cost = 768.0997\n",
      "Step 20: Cost = 751.9243\n",
      "Step 25: Cost = 753.5648\n",
      "Step 30: Cost = 596.7233\n",
      "Step 35: Cost = 631.8272\n",
      "Step 40: Cost = 892.6371\n",
      "Step 45: Cost = 879.1446\n",
      "Step 50: Cost = 672.0607\n",
      "Step 55: Cost = 809.7867\n",
      "Step 60: Cost = 732.6059\n",
      "Step 65: Cost = 774.6276\n",
      "Step 70: Cost = 743.3480\n",
      "Step 75: Cost = 578.5434\n",
      "Step 80: Cost = 590.8643\n",
      "Step 85: Cost = 802.4967\n",
      "Step 90: Cost = 575.9643\n",
      "Step 95: Cost = 740.2122\n",
      "Final parameters: [ 1.02122714e+04  1.10544425e+02  1.75727438e+04 -1.07678271e+04\n",
      "  5.89085526e+03 -2.12823108e+04  1.29349075e+04  2.16670999e+03\n",
      " -1.52305359e+04 -1.77202762e+04  3.01050653e+01  7.13110987e+01\n",
      "  6.91549013e+01  2.89447214e+01 -6.04255515e+01 -1.23766456e+01\n",
      " -1.91370572e+01 -1.18604117e+01  5.96153449e+00  3.24920073e+01]\n",
      "Final cost: 744.4041768055376\n"
     ]
    }
   ],
   "source": [
    "from pennylane.optimize import GradientDescentOptimizer\n",
    "\n",
    "gamma = np.random.uniform(0, np.pi, size=10)\n",
    "beta = np.random.uniform(0, np.pi, size=10)\n",
    "\n",
    "params = np.concatenate([gamma, beta])\n",
    "params = np.array(params,requires_grad=True)\n",
    "\n",
    "#params = np.array([0.5, 0.5], requires_grad=True)\n",
    "opt = GradientDescentOptimizer(stepsize=0.01)\n",
    "\n",
    "for i in range(100):\n",
    "    params = opt.step(qaoa, params,p=10)\n",
    "    if i % 5 == 0:\n",
    "        print(f\"Step {i}: Cost = {qaoa(params,p=10):.4f}\")\n",
    "print(\"Final parameters:\", params)\n",
    "print(\"Final cost:\", qaoa(params,p=10))\n"
   ]
  },
  {
   "cell_type": "code",
   "execution_count": 26,
   "id": "584401e1-e909-4529-9966-624ee17d4ba0",
   "metadata": {},
   "outputs": [],
   "source": [
    "#Updating the QAOA to collect sample\n",
    "@qml.qnode(dev)\n",
    "def qaoa_sample(params,p):\n",
    "    gamma, beta = params[:p], params[p:]\n",
    "    \n",
    "    # Start in uniform superposition\n",
    "    for i in range(R.shape[0]):\n",
    "        qml.Hadamard(wires=i)\n",
    "    for k in range(p):\n",
    "        apply_cost(gamma[k])\n",
    "        apply_mixer(beta[k])\n",
    "    \n",
    "    return qml.sample()"
   ]
  },
  {
   "cell_type": "code",
   "execution_count": 27,
   "id": "eae8d3d7-5cad-4ffa-9b1a-b8a002d3b55b",
   "metadata": {},
   "outputs": [],
   "source": [
    "dev = qml.device(\"default.qubit\", wires=R.shape[0], shots=1000)"
   ]
  },
  {
   "cell_type": "code",
   "execution_count": 28,
   "id": "cb391e13-3dd2-4636-949f-79befdd595c6",
   "metadata": {},
   "outputs": [
    {
     "data": {
      "text/plain": [
       "array([[0, 1, 0, 1, 0],\n",
       "       [1, 1, 1, 0, 1],\n",
       "       [1, 0, 0, 0, 1],\n",
       "       ...,\n",
       "       [1, 0, 0, 0, 1],\n",
       "       [1, 0, 0, 0, 1],\n",
       "       [0, 1, 1, 1, 1]], shape=(1000, 5))"
      ]
     },
     "execution_count": 28,
     "metadata": {},
     "output_type": "execute_result"
    }
   ],
   "source": [
    "qaoa_sample(params,p=10)"
   ]
  },
  {
   "cell_type": "code",
   "execution_count": 29,
   "id": "08b1b358-4e1c-449d-916f-c7b5b6500c37",
   "metadata": {},
   "outputs": [
    {
     "data": {
      "text/plain": [
       "(np.int64(0), np.int64(0), np.int64(0), np.int64(0), np.int64(0))"
      ]
     },
     "execution_count": 29,
     "metadata": {},
     "output_type": "execute_result"
    }
   ],
   "source": [
    "#To collect and analyze samples\n",
    "from collections import Counter\n",
    "\n",
    "samples = qaoa_sample(params,p=5)  # shape: (shots, n_assets)\n",
    "\n",
    "# Convert each bitstring to a tuple\n",
    "bitstrings = [tuple(sample) for sample in samples]\n",
    "\n",
    "# Count frequencies\n",
    "counts = Counter(bitstrings)\n",
    "most_common = counts.most_common(1)[0]\n",
    "most_common[0]"
   ]
  },
  {
   "cell_type": "code",
   "execution_count": 30,
   "id": "d8c2b4be-e5e0-4d63-b205-eaf7c30de141",
   "metadata": {},
   "outputs": [
    {
     "name": "stdout",
     "output_type": "stream",
     "text": [
      "Most probable portfolio: (0, 0, 0, 0, 0)\n",
      "Probability: 0.169\n"
     ]
    }
   ],
   "source": [
    "best_portfolio = most_common[0]\n",
    "best_portfolio_1 = tuple(int(x) for x in best_portfolio)\n",
    "\n",
    "frequency = most_common[1] / 1000\n",
    "\n",
    "print(\"Most probable portfolio:\", best_portfolio_1)\n",
    "print(\"Probability:\", frequency)"
   ]
  },
  {
   "cell_type": "code",
   "execution_count": 31,
   "id": "fe2e2254-7da6-46b5-8cd8-1a0b9580c2a3",
   "metadata": {},
   "outputs": [],
   "source": [
    "def plot_portfolio_distribution(counts, shots):\n",
    "    labels = [''.join(map(str, b)) for b in counts.keys()]\n",
    "    values = [v / shots for v in counts.values()]\n",
    "\n",
    "    plt.figure(figsize=(10, 5))\n",
    "    plt.bar(labels, values, color='skyblue')\n",
    "    plt.xlabel(\"Portfolio (bitstring)\", fontsize=12)\n",
    "    plt.ylabel(\"Probability\", fontsize=12)\n",
    "    plt.title(\"QAOA Portfolio Distribution\", fontsize=14)\n",
    "    plt.xticks(rotation=45)\n",
    "    plt.grid(axis='y', linestyle='--', alpha=0.7)\n",
    "    plt.tight_layout()\n",
    "    plt.show()"
   ]
  },
  {
   "cell_type": "code",
   "execution_count": 32,
   "id": "fd840a2e-aba2-492c-9623-4c61415710f6",
   "metadata": {},
   "outputs": [
    {
     "data": {
      "image/png": "[encoded data removed]",
      "text/plain": [
       "<Figure size 1000x500 with 1 Axes>"
      ]
     },
     "metadata": {},
     "output_type": "display_data"
    }
   ],
   "source": [
    "plot_portfolio_distribution(counts, 1000)"
   ]
  },
  {
   "cell_type": "code",
   "execution_count": null,
   "id": "24abd807-3d38-4530-9c79-7fa9663993a2",
   "metadata": {},
   "outputs": [],
   "source": []
  }
 ],
 "metadata": {
  "kernelspec": {
   "display_name": "Python 3 [Default]",
   "language": "python",
   "name": "python3"
  },
  "language_info": {
   "codemirror_mode": {
    "name": "ipython",
    "version": 3
   },
   "file_extension": ".py",
   "mimetype": "text/x-python",
   "name": "python",
   "nbconvert_exporter": "python",
   "pygments_lexer": "ipython3",
   "version": "3.11.9"
  }
 },
 "nbformat": 4,
 "nbformat_minor": 5
}
